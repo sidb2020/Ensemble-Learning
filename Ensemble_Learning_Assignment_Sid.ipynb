{
  "nbformat": 4,
  "nbformat_minor": 0,
  "metadata": {
    "colab": {
      "provenance": []
    },
    "kernelspec": {
      "name": "python3",
      "display_name": "Python 3"
    },
    "language_info": {
      "name": "python"
    }
  },
  "cells": [
    {
      "cell_type": "markdown",
      "source": [
        "#Ensemble Learning Theoretical Qustions\n",
        "\n",
        "---\n",
        "\n",
        "#### **1. Can we use Bagging for regression problems ?**\n",
        "\n",
        "**Answer:**\n",
        "**Yes**, Bagging can be effectively applied to **regression** problems—not just classification.\n",
        "\n",
        "* **Bagging (Bootstrap Aggregating)** creates multiple models (e.g., Decision Tree Regressors) on different **bootstrapped datasets**.\n",
        "* Each model gives a **numerical prediction**, and their **average** is taken as the final output.\n",
        "* This reduces **variance**, improves **stability**, and helps prevent **overfitting**.\n",
        "\n",
        "#### Use Case:\n",
        "\n",
        "In scikit-learn, **BaggingRegressor** can be used for problems like **predicting house prices**, **stock market values**, etc.\n",
        "\n",
        "---\n",
        "\n",
        "#### **2. What is the difference between multiple model training and single model training ?**\n",
        "\n",
        "**Answer:**\n",
        "\n",
        "| Aspect      | Single Model Training       | Multiple Model Training (Ensemble)       |\n",
        "| ----------- | --------------------------- | ---------------------------------------- |\n",
        "| Learning    | Trains once on full dataset | Trains multiple models on different data |\n",
        "| Performance | May overfit or underfit     | Combines strengths of multiple learners  |\n",
        "| Robustness  | Less tolerant to noise      | More robust and generalizable            |\n",
        "| Examples    | One Decision Tree           | Bagging, Boosting, Stacking              |\n",
        "\n",
        "**Conclusion:** Multiple model training offers better **accuracy, reliability, and generalization** than single models.\n",
        "\n",
        "---\n",
        "\n",
        "#### **3. Explain the concept of feature randomness in Random Forest.**\n",
        "\n",
        "**Answer:**\n",
        "Random Forest introduces **feature randomness** to enhance diversity among trees.\n",
        "\n",
        "#### Key Idea:\n",
        "\n",
        "* At each node split, instead of using **all features**, it selects a **random subset**.\n",
        "* This makes each tree see the problem differently, ensuring **diverse learners**.\n",
        "\n",
        "#### Benefits:\n",
        "\n",
        "* **Reduces correlation** between trees.\n",
        "* Improves **ensemble strength** by reducing **variance**.\n",
        "* Enhances **model generalization**.\n",
        "\n",
        "Feature Randomness = More **robust**, **accurate**, and **less overfit** models.\n",
        "\n",
        "---\n",
        "\n",
        "#### **4. What is OOB (Out-of-Bag) Score ?**\n",
        "\n",
        "**Answer:**\n",
        "OOB Score is a **built-in validation technique** for Bagging-based models.\n",
        "\n",
        "#### How it works:\n",
        "\n",
        "* Each base learner is trained on a **bootstrap sample** (\\~63% of data).\n",
        "* The remaining **\\~37% (OOB samples)** are not used in training.\n",
        "* These are used to **evaluate model performance** without needing a separate test set.\n",
        "\n",
        "#### Advantages:\n",
        "\n",
        "* Efficient **internal validation**.\n",
        "* Saves data and **computational resources**.\n",
        "* Helps estimate **generalization error**.\n",
        "\n",
        "In scikit-learn: **oob_score=True** gives quick performance feedback.\n",
        "\n",
        "---\n",
        "\n",
        "#### **5. How can you measure the importance of features in a Random Forest model ?**\n",
        "\n",
        "**Answer:**\n",
        "Random Forest provides **built-in feature importance** by evaluating how much each feature contributes to decision-making.\n",
        "\n",
        "#### Methods:\n",
        "\n",
        "1. **Mean Decrease in Impurity (MDI)**:\n",
        "\n",
        "   * Measures how much each feature decreases Gini impurity or MSE across trees.\n",
        "2. **Permutation Importance**:\n",
        "\n",
        "   * Randomly shuffles feature values to see how it impacts model accuracy.\n",
        "\n",
        "#### Output:\n",
        "\n",
        "* A **ranking of features** based on their contribution.\n",
        "* Often visualized with **bar charts**.\n",
        "\n",
        "Feature importance helps with **interpretability** and **feature selection**.\n",
        "\n",
        "---\n",
        "\n",
        "#### **6. Explain the working principle of a Bagging Classifier.**\n",
        "\n",
        "**Answer:**\n",
        "**Bagging Classifier** (Bootstrap Aggregating) enhances model performance by combining multiple base learners.\n",
        "\n",
        "#### Working Steps:\n",
        "\n",
        "1. **Bootstrap Sampling**: Generate multiple datasets by randomly sampling (with replacement) from the original data.\n",
        "2. **Model Training**: Train a base classifier (like Decision Trees) on each bootstrapped dataset.\n",
        "3. **Aggregation**: Use **majority voting** across all models to make the final prediction.\n",
        "\n",
        "#### Goal:\n",
        "\n",
        "To reduce **variance** and improve **generalization** by leveraging multiple models that see slightly different views of the data.\n",
        "\n",
        "**Result:** More **stable**, **accurate**, and **resilient** predictions compared to a single model.\n",
        "\n",
        "---\n",
        "\n",
        "#### **7. How do you evaluate a Bagging Classifier’s performance ?**\n",
        "\n",
        "**Answer:**\n",
        "Evaluating a Bagging Classifier involves both standard and ensemble-specific methods.\n",
        "\n",
        "#### Key Evaluation Metrics:\n",
        "\n",
        "* **Accuracy**: Percentage of correct predictions.\n",
        "* **Precision, Recall, F1-score**: Especially important for imbalanced datasets.\n",
        "* **Confusion Matrix**: Shows detailed class-wise performance.\n",
        "* **ROC-AUC Score**: For probabilistic models, indicates the trade-off between TPR and FPR.\n",
        "\n",
        "#### Ensemble-Specific:\n",
        "\n",
        "* **OOB Score**: A built-in cross-validation score for Bagging models.\n",
        "* **Cross-Validation**: 5-fold or 10-fold CV ensures robust evaluation.\n",
        "\n",
        "Combine these metrics for a **comprehensive performance assessment**.\n",
        "\n",
        "---\n",
        "\n",
        "#### **8. How does a Bagging Regressor work ?**\n",
        "\n",
        "**Answer:**\n",
        "A **Bagging Regressor** applies the same ensemble logic to regression tasks.\n",
        "\n",
        "#### Steps:\n",
        "\n",
        "1. Create **bootstrap samples** of the training set.\n",
        "2. Train **base regressors** (e.g., DecisionTreeRegressor) on each sample.\n",
        "3. Predict by taking the **average** of all model outputs.\n",
        "\n",
        "#### Purpose:\n",
        "\n",
        "* Reduces **variance** without increasing bias.\n",
        "* Improves **prediction stability** and **robustness**, especially for noisy datasets.\n",
        "\n",
        "#### Use Cases:\n",
        "\n",
        "* Predicting house prices, stock values, medical measurements, etc.\n",
        "\n",
        "Bagging Regressor = **Ensemble of weak regressors** → **Strong, stable output**.\n",
        "\n",
        "---\n",
        "\n",
        "#### **9. What is the main advantage of ensemble techniques ?**\n",
        "\n",
        "**Answer:**\n",
        "The **primary advantage** of ensemble learning is its ability to **combine multiple models** to produce superior results.\n",
        "\n",
        "#### Key Benefits:\n",
        "\n",
        "1. **Improved Accuracy**: Aggregated models outperform individual learners.\n",
        "2. **Reduced Overfitting**: Especially with Bagging, which smooths out noise.\n",
        "3. **Better Generalization**: Handles variance and bias simultaneously.\n",
        "4. **Robustness to Noise**: Ensemble models are less sensitive to outliers.\n",
        "\n",
        "#### Example:\n",
        "\n",
        "Random Forest usually outperforms a single Decision Tree in both training and testing performance.\n",
        "\n",
        "Ensemble = \"Wisdom of Models\"\n",
        "\n",
        "---\n",
        "\n",
        "#### **10. What is the main challenge of ensemble methods ?**\n",
        "\n",
        "**Answer:**\n",
        "Despite their power, ensemble methods come with a few **notable challenges**:\n",
        "\n",
        "#### Key Challenges:\n",
        "\n",
        "1. **Complexity**: Harder to implement, debug, and interpret than single models.\n",
        "2. **Computational Cost**: Training multiple models increases time and resources.\n",
        "3. **Loss of Interpretability**: Understanding decision-making becomes difficult (especially in Random Forest or Stacking).\n",
        "4. **Risk of Overfitting** (in Boosting): Especially if not regularized well.\n",
        "5. **Hyperparameter Tuning**: More models = more parameters to optimize.\n",
        "\n",
        "#### Example:\n",
        "\n",
        "In healthcare, ensemble predictions might be accurate but difficult to justify to practitioners.\n",
        "\n",
        "Use ensembles wisely—especially when **accuracy outweighs explainability**.\n",
        "\n",
        "---\n",
        "\n",
        "#### **11. Explain the key idea behind ensemble techniques.**\n",
        "\n",
        "**Answer:**\n",
        "The **core idea of ensemble techniques** is simple yet powerful:\n",
        "\n",
        "**\"Combine multiple weak or moderate models to build a strong, accurate, and robust learner.\"**\n",
        "\n",
        "#### Why It Works:\n",
        "\n",
        "* Individual models might **make different errors**.\n",
        "* By **aggregating** their predictions, the final outcome becomes **more accurate** and **less sensitive** to the shortcomings of any single model.\n",
        "\n",
        "#### Analogy:\n",
        "\n",
        "It’s like asking a **panel of experts** instead of relying on a single opinion—**collective decision-making** often yields better results.\n",
        "\n",
        "#### Examples of Ensembles:\n",
        "\n",
        "* **Bagging** (e.g., Random Forest)\n",
        "* **Boosting** (e.g., AdaBoost, Gradient Boosting)\n",
        "* **Stacking** (combining different algorithms)\n",
        "\n",
        "Ensemble = Better **performance**, **generalization**, and **robustness**.\n",
        "\n",
        "---\n",
        "\n",
        "#### **12. What is a Random Forest Classifier ?**\n",
        "\n",
        "**Answer:**\n",
        "A **Random Forest Classifier** is an ensemble learning method built upon the **Bagging principle**, using **Decision Trees** as base models with an added layer of randomness.\n",
        "\n",
        "#### Key Components:\n",
        "\n",
        "1. **Bootstrap Sampling**: Each tree is trained on a different subset of the data.\n",
        "2. **Feature Randomness**: At each node split, a random subset of features is considered (not all).\n",
        "3. **Majority Voting**: For classification tasks, final output is decided by the majority of the trees.\n",
        "\n",
        "#### Benefits:\n",
        "\n",
        "* Handles **non-linear relationships** well.\n",
        "* Highly effective in **high-dimensional spaces**.\n",
        "* **Reduces overfitting** seen in single decision trees.\n",
        "\n",
        "It is widely used in tasks like **fraud detection, disease classification**, and **image recognition**.\n",
        "\n",
        "---\n",
        "\n",
        "#### **13. What are the main types of ensemble techniques ?**\n",
        "\n",
        "**Answer:**\n",
        "Ensemble learning is broadly divided into **three main types**, each with unique strategies for combining models:\n",
        "\n",
        "#### **1. Bagging (Bootstrap Aggregating)**:\n",
        "\n",
        "* **Parallel** model training on bootstrapped datasets.\n",
        "* Reduces **variance**.\n",
        "* Example: Random Forest.\n",
        "\n",
        "#### **2. Boosting**:\n",
        "\n",
        "* Models are trained **sequentially**, with each new model focusing on the errors of the previous.\n",
        "* Reduces **bias**.\n",
        "* Examples: AdaBoost, Gradient Boosting, XGBoost.\n",
        "\n",
        "#### **3. Stacking**:\n",
        "\n",
        "* Combines different algorithms (e.g., SVM, Tree, Logistic Regression).\n",
        "* Predictions from base models are passed to a **meta-model** for final prediction.\n",
        "* Focuses on **diversity of learners**.\n",
        "\n",
        "Each type addresses a different aspect of model weakness—variance, bias, or model limitations.\n",
        "\n",
        "---\n",
        "\n",
        "#### **14. What is ensemble learning in machine learning ?**\n",
        "\n",
        "**Answer:**\n",
        "#### Definition:\n",
        "\n",
        "**Ensemble learning** is a technique where **multiple models (learners)** are strategically combined to **solve a single problem** and achieve better predictive performance.\n",
        "\n",
        "* No single model is perfect.\n",
        "* Different models capture different patterns.\n",
        "* Combining their strengths leads to **higher accuracy and robustness**.\n",
        "\n",
        "#### Types of Learners:\n",
        "\n",
        "* **Homogeneous**: All base models are the same (e.g., all Decision Trees in Bagging).\n",
        "* **Heterogeneous**: Different base models are used (e.g., Stacking).\n",
        "\n",
        "#### Real-World Applications:\n",
        "\n",
        "* Weather prediction\n",
        "* Email spam detection\n",
        "* Stock price forecasting\n",
        "\n",
        "Ensemble Learning = **“Unity in diversity”** for machine learning models.\n",
        "\n",
        "---\n",
        "\n",
        "#### **15. When should we avoid using ensemble methods ?**\n",
        "\n",
        "**Answer:**\n",
        "Despite their advantages, there are **specific scenarios** where ensemble techniques may not be ideal.\n",
        "\n",
        "#### Scenarios to Avoid:\n",
        "\n",
        "1. **Interpretability is crucial**: In domains like healthcare or finance, simpler models like logistic regression may be preferred for explainability.\n",
        "2. **Low computational resources**: Training and deploying multiple models can be costly.\n",
        "3. **Small datasets**: Ensembles might overfit if data is limited.\n",
        "4. **Already high-performing model**: Ensembles may offer negligible gains.\n",
        "5. **Real-time constraints**: Prediction latency can be high due to model complexity.\n",
        "\n",
        "#### Bottom Line:\n",
        "\n",
        "Use ensembles **only when the performance boost justifies** the added complexity and cost.\n",
        "\n",
        "---\n",
        "\n",
        "#### **16. How does Bagging help in reducing overfitting ?**\n",
        "\n",
        "**Answer:**\n",
        "Bagging (Bootstrap Aggregating) is especially powerful in tackling **overfitting**, a common issue with models like Decision Trees that are prone to memorizing training data.\n",
        "\n",
        "#### Step-by-Step Breakdown:\n",
        "\n",
        "1. **Diversity through Bootstrap Sampling**:\n",
        "\n",
        "   * Multiple datasets are created by random sampling **with replacement**.\n",
        "   * Each model sees a **different subset** of data → results in diverse learners.\n",
        "\n",
        "2. **Independent Learning**:\n",
        "\n",
        "   * All models are trained **independently** in parallel.\n",
        "   * Overfitting in one model doesn't necessarily affect others.\n",
        "\n",
        "3. **Aggregation (Voting/Averaging)**:\n",
        "\n",
        "   * By combining predictions, the ensemble **smooths out extreme outputs**.\n",
        "   * This helps in **reducing variance** without increasing bias.\n",
        "\n",
        "#### Example:\n",
        "\n",
        "A single decision tree might perfectly fit the training data (overfitting), but a **Bagging ensemble** (like Random Forest) generalizes better on unseen data.\n",
        "\n",
        "**Conclusion:** Bagging reduces **variance-driven overfitting**, making the model more **robust**.\n",
        "\n",
        "---\n",
        "\n",
        "#### **17. Why is Random Forest better than a single Decision Tree ?**\n",
        "\n",
        "**Answer:**\n",
        "Random Forest is a powerful upgrade over a single Decision Tree, both in theory and in practice.\n",
        "\n",
        "#### Reasons Why Random Forest Outperforms a Single Tree:\n",
        "\n",
        "| Criteria           | Decision Tree       | Random Forest                   |\n",
        "| ------------------ | ------------------- | ------------------------------- |\n",
        "| Variance           | High                | Low (due to ensemble averaging) |\n",
        "| Accuracy           | Moderate            | High                            |\n",
        "| Overfitting        | Likely              | Significantly reduced           |\n",
        "| Generalization     | Poor for noisy data | Much better                     |\n",
        "| Feature randomness | No                  | Yes (better diversity)          |\n",
        "| Interpretability   | Easy                | Moderate (due to many trees)    |\n",
        "\n",
        "#### Key Strengths of Random Forest:\n",
        "\n",
        "* Uses **Bagging** to reduce variance.\n",
        "* Adds **feature randomness** to improve decorrelation.\n",
        "* Performs well on both **structured and unstructured data**.\n",
        "\n",
        "**Verdict:** Random Forest offers **better accuracy, stability, and generalization** than a single Decision Tree.\n",
        "\n",
        "---\n",
        "\n",
        "#### **18. What is the role of bootstrap sampling in Bagging ?**\n",
        "\n",
        "**Answer:**\n",
        "Bootstrap sampling is the **foundation** of Bagging. It enables the creation of diverse training sets that help in building a strong ensemble model.\n",
        "\n",
        "* It's the technique of drawing **random samples with replacement** from the training data.\n",
        "* Each bootstrapped dataset has the **same size** as the original but includes **duplicates**.\n",
        "\n",
        "#### Necessity in Bagging:\n",
        "\n",
        "1. **Creates diversity** among base learners.\n",
        "2. Each model sees a slightly different \"view\" of the dataset.\n",
        "3. Leads to **less correlated** models, which improves ensemble performance.\n",
        "\n",
        "#### OOB Samples:\n",
        "\n",
        "The data **not selected** in bootstrap sampling becomes **Out-of-Bag (OOB)** samples, which can be used for **internal validation**.\n",
        "\n",
        "**Summary:** Bootstrap sampling enables **variance reduction**, **model diversity**, and **efficient validation** in Bagging.\n",
        "\n",
        "---\n",
        "\n",
        "#### **19. What are some real-world applications of ensemble techniques ?**\n",
        "\n",
        "**Answer:**\n",
        "Ensemble techniques have revolutionized many industries by significantly improving prediction accuracy and robustness.\n",
        "\n",
        "#### Real-World Applications:\n",
        "\n",
        "#### **1.** Healthcare:\n",
        "\n",
        "* Disease prediction (e.g., cancer detection using Random Forest)\n",
        "* Medical image classification using ensemble CNNs\n",
        "\n",
        "#### **2.** Finance:\n",
        "\n",
        "* Credit scoring\n",
        "* Fraud detection using Boosting algorithms\n",
        "\n",
        "#### **3.** Natural Language Processing:\n",
        "\n",
        "* Sentiment analysis with Stacking models\n",
        "* Spam filtering using AdaBoost\n",
        "\n",
        "#### **4.** Business Analytics:\n",
        "\n",
        "* Customer churn prediction\n",
        "* Forecasting demand and sales trends\n",
        "\n",
        "#### **5.** Computer Vision:\n",
        "\n",
        "* Object detection and face recognition using ensembles of CNNs\n",
        "* Image classification in Kaggle competitions\n",
        "\n",
        "**Conclusion:** From **medicine** to **finance**, ensembles offer **accuracy, flexibility, and trustworthiness**.\n",
        "\n",
        "---\n",
        "\n",
        "#### **20. What is the difference between Bagging and Boosting ?**\n",
        "\n",
        "**Answer:**\n",
        "Both Bagging and Boosting are ensemble techniques, but they follow **very different philosophies and mechanics**.\n",
        "\n",
        "#### Comparison Table:\n",
        "\n",
        "| Aspect               | **Bagging**                  | **Boosting**                         |\n",
        "| -------------------- | ---------------------------- | ------------------------------------ |\n",
        "| Objective            | Reduce **variance**          | Reduce **bias**                      |\n",
        "| Model Training       | **Parallel**                 | **Sequential**                       |\n",
        "| Data Sampling        | Bootstrap sampling           | Weighted sampling (focus on errors)  |\n",
        "| Model Focus          | Equal weight to all learners | Learners correct previous errors     |\n",
        "| Sensitivity to Noise | Less (robust)                | More (can overfit noisy data)        |\n",
        "| Examples             | Random Forest                | AdaBoost, Gradient Boosting, XGBoost |\n",
        "\n",
        "#### Summary:\n",
        "\n",
        "* **Bagging** = Stability & robustness\n",
        "* **Boosting** = Precision & learning from mistakes\n",
        "\n",
        "Choose Bagging when variance is high; use Boosting to fix underfitting or weak learners.\n",
        "\n",
        "---"
      ],
      "metadata": {
        "id": "XRh7zCjtdVL3"
      }
    },
    {
      "cell_type": "code",
      "source": [
        "## Practical Questions\n",
        "#21. Train a Bagging Classifier using Decision Trees on a sample dataset and print model accuracy.\n",
        "\n",
        "from sklearn.ensemble import BaggingClassifier\n",
        "from sklearn.tree import DecisionTreeClassifier\n",
        "from sklearn.datasets import load_iris\n",
        "from sklearn.model_selection import train_test_split\n",
        "from sklearn.metrics import accuracy_score\n",
        "\n",
        "# Load dataset\n",
        "X, y = load_iris(return_X_y=True)\n",
        "X_train, X_test, y_train, y_test = train_test_split(X, y, test_size=0.2, random_state=42)\n",
        "\n",
        "# Correct parameter: 'estimator' instead of 'base_estimator'\n",
        "bagging_clf = BaggingClassifier(\n",
        "    estimator=DecisionTreeClassifier(),\n",
        "    n_estimators=50,\n",
        "    random_state=42\n",
        ")\n",
        "\n",
        "# Train and evaluate\n",
        "bagging_clf.fit(X_train, y_train)\n",
        "y_pred = bagging_clf.predict(X_test)\n",
        "accuracy = accuracy_score(y_test, y_pred)\n",
        "\n",
        "print(\"Bagging Classifier Accuracy:\", accuracy)"
      ],
      "metadata": {
        "colab": {
          "base_uri": "https://localhost:8080/"
        },
        "id": "agbQsja23tTb",
        "outputId": "01e3704b-f106-4087-b1c8-9e304b0b77eb"
      },
      "execution_count": 34,
      "outputs": [
        {
          "output_type": "stream",
          "name": "stdout",
          "text": [
            "Bagging Classifier Accuracy: 1.0\n"
          ]
        }
      ]
    },
    {
      "cell_type": "code",
      "source": [
        "#22. Train a Bagging Regressor using Decision Trees and evaluate using Mean Squared Error (MSE).\n",
        "\n",
        "from sklearn.ensemble import BaggingRegressor\n",
        "from sklearn.tree import DecisionTreeRegressor\n",
        "from sklearn.datasets import load_diabetes\n",
        "from sklearn.metrics import mean_squared_error\n",
        "\n",
        "# Load regression dataset\n",
        "from sklearn.model_selection import train_test_split\n",
        "X, y = load_diabetes(return_X_y=True)\n",
        "\n",
        "# Split the dataset\n",
        "X_train, X_test, y_train, y_test = train_test_split(X, y, test_size=0.2, random_state=0)\n",
        "\n",
        "# Initialize Bagging Regressor\n",
        "bagging_reg = BaggingRegressor(\n",
        "    base_estimator=DecisionTreeRegressor(),\n",
        "    n_estimators=100,\n",
        "    random_state=0\n",
        ")\n",
        "\n",
        "# Train model\n",
        "bagging_reg.fit(X_train, y_train)\n",
        "\n",
        "# Predict and calculate MSE\n",
        "y_pred = bagging_reg.predict(X_test)\n",
        "mse = mean_squared_error(y_test, y_pred)\n",
        "print(f\"Bagging Regressor MSE: {mse:.2f}\")"
      ],
      "metadata": {
        "id": "kdZRfOT4Lh2J"
      },
      "execution_count": null,
      "outputs": []
    },
    {
      "cell_type": "code",
      "source": [
        "#23. Train a Random Forest Classifier on the Breast Cancer dataset and print feature importance scores.\n",
        "\n",
        "from sklearn.ensemble import RandomForestClassifier\n",
        "from sklearn.datasets import load_breast_cancer\n",
        "\n",
        "# Load dataset\n",
        "data = load_breast_cancer()\n",
        "X, y = data.data, data.target\n",
        "feature_names = data.feature_names\n",
        "\n",
        "# Train-test split\n",
        "X_train, X_test, y_train, y_test = train_test_split(X, y, random_state=0)\n",
        "\n",
        "# Train Random Forest\n",
        "rf_clf = RandomForestClassifier(n_estimators=100, random_state=0)\n",
        "rf_clf.fit(X_train, y_train)\n",
        "\n",
        "# Print feature importance\n",
        "import pandas as pd\n",
        "importance_df = pd.DataFrame({\n",
        "    'Feature': feature_names,\n",
        "    'Importance': rf_clf.feature_importances_\n",
        "}).sort_values(by='Importance', ascending=False)\n",
        "\n",
        "print(importance_df.head(10))"
      ],
      "metadata": {
        "colab": {
          "base_uri": "https://localhost:8080/"
        },
        "id": "g83t62FDLs64",
        "outputId": "11a81795-6186-474f-c106-2d8ca503e37c"
      },
      "execution_count": 2,
      "outputs": [
        {
          "output_type": "stream",
          "name": "stdout",
          "text": [
            "                 Feature  Importance\n",
            "22       worst perimeter    0.160277\n",
            "27  worst concave points    0.117118\n",
            "20          worst radius    0.116573\n",
            "7    mean concave points    0.103054\n",
            "23            worst area    0.063469\n",
            "6         mean concavity    0.055395\n",
            "2         mean perimeter    0.053727\n",
            "3              mean area    0.048616\n",
            "26       worst concavity    0.039237\n",
            "13            area error    0.034202\n"
          ]
        }
      ]
    },
    {
      "cell_type": "code",
      "source": [
        "#24. Train a Random Forest Regressor and compare its performance with a single Decision Tree.\n",
        "\n",
        "from sklearn.datasets import load_diabetes\n",
        "from sklearn.tree import DecisionTreeRegressor\n",
        "from sklearn.ensemble import RandomForestRegressor\n",
        "from sklearn.model_selection import train_test_split\n",
        "from sklearn.metrics import r2_score\n",
        "\n",
        "# Load dataset\n",
        "X, y = load_diabetes(return_X_y=True)\n",
        "\n",
        "# Split the dataset\n",
        "X_train, X_test, y_train, y_test = train_test_split(X, y, test_size=0.2, random_state=0)\n",
        "\n",
        "# Train a Decision Tree Regressor\n",
        "tree = DecisionTreeRegressor(random_state=0)\n",
        "tree.fit(X_train, y_train)\n",
        "tree_pred = tree.predict(X_test)\n",
        "\n",
        "# Train a Random Forest Regressor\n",
        "forest = RandomForestRegressor(n_estimators=100, random_state=0)\n",
        "forest.fit(X_train, y_train)\n",
        "forest_pred = forest.predict(X_test)\n",
        "\n",
        "# Compare the performance\n",
        "print(\"Decision Tree R² Score: \", round(r2_score(y_test, tree_pred), 3))\n",
        "print(\"Random Forest R² Score:\", round(r2_score(y_test, forest_pred), 3))"
      ],
      "metadata": {
        "colab": {
          "base_uri": "https://localhost:8080/"
        },
        "id": "bfGOg9RiL4_w",
        "outputId": "4580251a-0817-4b97-c305-55a3dd796ebc"
      },
      "execution_count": 6,
      "outputs": [
        {
          "output_type": "stream",
          "name": "stdout",
          "text": [
            "Decision Tree R² Score:  -0.344\n",
            "Random Forest R² Score: 0.269\n"
          ]
        }
      ]
    },
    {
      "cell_type": "code",
      "source": [
        "#25. Compute the Out-of-Bag (OOB) Score for a Random Forest Classifier.\n",
        "\n",
        "rf_oob = RandomForestClassifier(n_estimators=100, oob_score=True, random_state=0)\n",
        "rf_oob.fit(X_train, y_train)\n",
        "\n",
        "print(f\"OOB Score: {rf_oob.oob_score_:.2f}\")"
      ],
      "metadata": {
        "colab": {
          "base_uri": "https://localhost:8080/"
        },
        "id": "u_zogxrxL__u",
        "outputId": "b18417e2-6dfc-46c1-f9a8-75586a3d46fa"
      },
      "execution_count": 4,
      "outputs": [
        {
          "output_type": "stream",
          "name": "stdout",
          "text": [
            "OOB Score: 0.96\n"
          ]
        }
      ]
    },
    {
      "cell_type": "code",
      "source": [
        "#26. Train a Bagging Classifier using SVM as a base estimator and print accuracy.\n",
        "\n",
        "from sklearn.ensemble import BaggingClassifier\n",
        "from sklearn.svm import SVC\n",
        "from sklearn.datasets import load_iris\n",
        "from sklearn.model_selection import train_test_split\n",
        "from sklearn.metrics import accuracy_score\n",
        "\n",
        "# Load Iris dataset\n",
        "X, y = load_iris(return_X_y=True)\n",
        "X_train, X_test, y_train, y_test = train_test_split(X, y, test_size=0.3, random_state=42)\n",
        "\n",
        "# SVM classifier\n",
        "svm = SVC(kernel='rbf', probability=True)\n",
        "\n",
        "# Use 'estimator' instead of 'base_estimator'\n",
        "bag_svm = BaggingClassifier(estimator=svm, n_estimators=10, random_state=42)\n",
        "bag_svm.fit(X_train, y_train)\n",
        "\n",
        "# Predictions and accuracy\n",
        "y_pred = bag_svm.predict(X_test)\n",
        "accuracy = accuracy_score(y_test, y_pred)\n",
        "print(f\"Bagging SVM Accuracy: {accuracy:.2f}\")"
      ],
      "metadata": {
        "colab": {
          "base_uri": "https://localhost:8080/"
        },
        "id": "d3u6Tzo2MTU-",
        "outputId": "16dde7ef-7202-48d4-8e8e-85e9be5fc9bd"
      },
      "execution_count": 14,
      "outputs": [
        {
          "output_type": "stream",
          "name": "stdout",
          "text": [
            "Bagging SVM Accuracy: 1.00\n"
          ]
        }
      ]
    },
    {
      "cell_type": "code",
      "source": [
        "#27. Train a Random Forest Classifier with different numbers of trees and compare accuracy.\n",
        "\n",
        "from sklearn.ensemble import RandomForestClassifier\n",
        "\n",
        "# Trying different numbers of trees\n",
        "for n in [10, 50, 100, 200]:\n",
        "    rf = RandomForestClassifier(n_estimators=n, random_state=42)\n",
        "    rf.fit(X_train, y_train)\n",
        "    acc = rf.score(X_test, y_test)\n",
        "    print(f\"n_estimators={n} → Accuracy: {acc:.2f}\")"
      ],
      "metadata": {
        "colab": {
          "base_uri": "https://localhost:8080/"
        },
        "id": "seGIahWUTs9F",
        "outputId": "1562f3ea-faf1-4230-b634-f46856334263"
      },
      "execution_count": 8,
      "outputs": [
        {
          "output_type": "stream",
          "name": "stdout",
          "text": [
            "n_estimators=10 → Accuracy: 1.00\n",
            "n_estimators=50 → Accuracy: 1.00\n",
            "n_estimators=100 → Accuracy: 1.00\n",
            "n_estimators=200 → Accuracy: 1.00\n"
          ]
        }
      ]
    },
    {
      "cell_type": "code",
      "source": [
        "#28. Train a Bagging Classifier using Logistic Regression and print AUC score.\n",
        "\n",
        "from sklearn.ensemble import BaggingClassifier\n",
        "from sklearn.linear_model import LogisticRegression\n",
        "from sklearn.datasets import load_iris\n",
        "from sklearn.model_selection import train_test_split\n",
        "from sklearn.metrics import roc_auc_score\n",
        "\n",
        "# Load dataset\n",
        "X, y = load_iris(return_X_y=True)\n",
        "X_train, X_test, y_train, y_test = train_test_split(X, y, test_size=0.3, random_state=42)\n",
        "\n",
        "# Logistic Regression as base estimator\n",
        "logreg = LogisticRegression(solver='liblinear', max_iter=1000)\n",
        "\n",
        "# Updated parameter: 'estimator' instead of 'base_estimator'\n",
        "bag_log = BaggingClassifier(estimator=logreg, n_estimators=25, random_state=42)\n",
        "bag_log.fit(X_train, y_train)\n",
        "\n",
        "# Predict probabilities for AUC (multi-class)\n",
        "y_prob = bag_log.predict_proba(X_test)\n",
        "\n",
        "# AUC Score for multi-class classification (One-vs-Rest)\n",
        "auc = roc_auc_score(y_test, y_prob, multi_class='ovr')\n",
        "print(f\"Bagging Logistic Regression AUC Score: {auc:.2f}\")"
      ],
      "metadata": {
        "colab": {
          "base_uri": "https://localhost:8080/"
        },
        "id": "552Gu5PPTzxD",
        "outputId": "c1d4269c-40c4-49fc-da6b-c8ca2e44edcb"
      },
      "execution_count": 13,
      "outputs": [
        {
          "output_type": "stream",
          "name": "stdout",
          "text": [
            "Bagging Logistic Regression AUC Score: 1.00\n"
          ]
        }
      ]
    },
    {
      "cell_type": "code",
      "source": [
        "#29. Train a Random Forest Regressor and analyze feature importance scores.\n",
        "\n",
        "from sklearn.ensemble import RandomForestRegressor\n",
        "import pandas as pd\n",
        "\n",
        "# Train Random Forest Regressor\n",
        "rf_reg = RandomForestRegressor(n_estimators=100, random_state=42)\n",
        "rf_reg.fit(X_train, y_train)\n",
        "\n",
        "# Extract and display feature importance\n",
        "importance = pd.Series(rf_reg.feature_importances_, index=load_iris().feature_names)\n",
        "print(importance.sort_values(ascending=False))"
      ],
      "metadata": {
        "colab": {
          "base_uri": "https://localhost:8080/"
        },
        "id": "UIGp925YT9aX",
        "outputId": "c7c45ebf-035a-448e-941b-dc0d472f14c8"
      },
      "execution_count": 10,
      "outputs": [
        {
          "output_type": "stream",
          "name": "stdout",
          "text": [
            "petal width (cm)     0.494224\n",
            "petal length (cm)    0.488284\n",
            "sepal width (cm)     0.010194\n",
            "sepal length (cm)    0.007299\n",
            "dtype: float64\n"
          ]
        }
      ]
    },
    {
      "cell_type": "code",
      "source": [
        "#30. Train an ensemble model using both Bagging and Random Forest and compare accuracy.\n",
        "\n",
        "from sklearn.ensemble import BaggingClassifier, RandomForestClassifier\n",
        "from sklearn.tree import DecisionTreeClassifier\n",
        "from sklearn.datasets import load_iris\n",
        "from sklearn.model_selection import train_test_split\n",
        "\n",
        "# Load dataset\n",
        "X, y = load_iris(return_X_y=True)\n",
        "X_train, X_test, y_train, y_test = train_test_split(X, y, test_size=0.3, random_state=42)\n",
        "\n",
        "# BaggingClassifier with corrected parameter name\n",
        "bag_model = BaggingClassifier(estimator=DecisionTreeClassifier(), n_estimators=50, random_state=42)\n",
        "bag_model.fit(X_train, y_train)\n",
        "bag_acc = bag_model.score(X_test, y_test)\n",
        "\n",
        "# Random Forest Classifier\n",
        "rf_model = RandomForestClassifier(n_estimators=50, random_state=42)\n",
        "rf_model.fit(X_train, y_train)\n",
        "rf_acc = rf_model.score(X_test, y_test)\n",
        "\n",
        "# Output comparison\n",
        "print(f\"Bagging Accuracy: {bag_acc:.2f}\")\n",
        "print(f\"Random Forest Accuracy: {rf_acc:.2f}\")"
      ],
      "metadata": {
        "colab": {
          "base_uri": "https://localhost:8080/"
        },
        "id": "VhJGrsXsUEuE",
        "outputId": "c97bd257-518d-47d1-fd3d-f20b294f501b"
      },
      "execution_count": 12,
      "outputs": [
        {
          "output_type": "stream",
          "name": "stdout",
          "text": [
            "Bagging Accuracy: 1.00\n",
            "Random Forest Accuracy: 1.00\n"
          ]
        }
      ]
    },
    {
      "cell_type": "code",
      "source": [
        "# 31. Train a Random Forest Classifier and tune hyperparameters using GridSearchCV.\n",
        "\n",
        "from sklearn.ensemble import RandomForestClassifier\n",
        "from sklearn.model_selection import GridSearchCV\n",
        "from sklearn.datasets import load_iris\n",
        "from sklearn.model_selection import train_test_split\n",
        "\n",
        "# Load dataset\n",
        "X, y = load_iris(return_X_y=True)\n",
        "X_train, X_test, y_train, y_test = train_test_split(X, y, test_size=0.3, random_state=42)\n",
        "\n",
        "# Define model and parameters\n",
        "rf = RandomForestClassifier(random_state=42)\n",
        "param_grid = {\n",
        "    'n_estimators': [50, 100],\n",
        "    'max_depth': [3, 5, None],\n",
        "    'min_samples_split': [2, 4]\n",
        "}\n",
        "\n",
        "# GridSearchCV\n",
        "grid = GridSearchCV(rf, param_grid, cv=5)\n",
        "grid.fit(X_train, y_train)\n",
        "\n",
        "print(\"Best Parameters:\", grid.best_params_)\n",
        "print(\"Best Accuracy:\", grid.score(X_test, y_test))"
      ],
      "metadata": {
        "colab": {
          "base_uri": "https://localhost:8080/"
        },
        "id": "xQHIVIjoUMdh",
        "outputId": "959cedfb-6680-4c9b-d255-1e7d3a538a99"
      },
      "execution_count": 15,
      "outputs": [
        {
          "output_type": "stream",
          "name": "stdout",
          "text": [
            "Best Parameters: {'max_depth': 5, 'min_samples_split': 2, 'n_estimators': 100}\n",
            "Best Accuracy: 1.0\n"
          ]
        }
      ]
    },
    {
      "cell_type": "code",
      "source": [
        "#32. Train a Bagging Regressor with different numbers of base estimators and compare performance.\n",
        "\n",
        "from sklearn.ensemble import BaggingRegressor\n",
        "from sklearn.tree import DecisionTreeRegressor\n",
        "from sklearn.metrics import mean_squared_error\n",
        "from sklearn.datasets import load_diabetes\n",
        "from sklearn.model_selection import train_test_split\n",
        "\n",
        "# Load dataset\n",
        "X, y = load_diabetes(return_X_y=True)\n",
        "X_train, X_test, y_train, y_test = train_test_split(X, y, test_size=0.2, random_state=0)\n",
        "\n",
        "# Try different n_estimators\n",
        "for n in [10, 50, 100]:\n",
        "    bag_reg = BaggingRegressor(estimator=DecisionTreeRegressor(), n_estimators=n, random_state=0)\n",
        "    bag_reg.fit(X_train, y_train)\n",
        "    y_pred = bag_reg.predict(X_test)\n",
        "    mse = mean_squared_error(y_test, y_pred)\n",
        "    print(f\"n_estimators={n} → MSE: {mse:.2f}\")"
      ],
      "metadata": {
        "colab": {
          "base_uri": "https://localhost:8080/"
        },
        "id": "KWjMzuqCVFpH",
        "outputId": "30ea4b92-e50f-4f93-b786-aac3bb5111ff"
      },
      "execution_count": 16,
      "outputs": [
        {
          "output_type": "stream",
          "name": "stdout",
          "text": [
            "n_estimators=10 → MSE: 4475.47\n",
            "n_estimators=50 → MSE: 3836.78\n",
            "n_estimators=100 → MSE: 3841.79\n"
          ]
        }
      ]
    },
    {
      "cell_type": "code",
      "source": [
        "#33. Train a Random Forest Classifier and analyze misclassified samples.\n",
        "\n",
        "import numpy as np\n",
        "from sklearn.metrics import confusion_matrix\n",
        "\n",
        "# Train the model\n",
        "rf = RandomForestClassifier(n_estimators=100, random_state=42)\n",
        "rf.fit(X_train, y_train)\n",
        "y_pred = rf.predict(X_test)\n",
        "\n",
        "# Confusion matrix\n",
        "cm = confusion_matrix(y_test, y_pred)\n",
        "print(\"Confusion Matrix:\\n\", cm)\n",
        "\n",
        "# Find misclassified samples\n",
        "misclassified_idx = np.where(y_pred != y_test)[0]\n",
        "print(\"Misclassified Sample Indices:\", misclassified_idx)"
      ],
      "metadata": {
        "colab": {
          "base_uri": "https://localhost:8080/"
        },
        "id": "oFfWv8fLVLfG",
        "outputId": "70926cc0-e44b-4771-85e1-e23d731c9f79"
      },
      "execution_count": 17,
      "outputs": [
        {
          "output_type": "stream",
          "name": "stdout",
          "text": [
            "Confusion Matrix:\n",
            " [[0 0 0 ... 0 0 0]\n",
            " [0 0 0 ... 0 0 0]\n",
            " [0 0 0 ... 0 0 0]\n",
            " ...\n",
            " [0 0 0 ... 0 0 1]\n",
            " [0 0 0 ... 0 0 0]\n",
            " [0 0 0 ... 0 0 0]]\n",
            "Misclassified Sample Indices: [ 0  1  2  3  4  5  6  7  8  9 10 11 12 13 14 15 16 17 18 19 20 21 22 23\n",
            " 24 25 26 27 28 29 30 31 32 33 34 35 36 37 38 39 40 41 42 43 44 45 46 47\n",
            " 48 49 50 51 52 53 54 55 56 57 58 59 60 61 62 63 64 65 66 67 68 69 70 71\n",
            " 72 73 74 75 76 77 78 79 80 81 82 83 84 85 86 87 88]\n"
          ]
        }
      ]
    },
    {
      "cell_type": "code",
      "source": [
        "#34. Train a Bagging Classifier and compare its performance with a single Decision Tree Classifier.\n",
        "\n",
        "from sklearn.metrics import accuracy_score\n",
        "\n",
        "# Single Decision Tree\n",
        "tree = DecisionTreeClassifier(random_state=42)\n",
        "tree.fit(X_train, y_train)\n",
        "tree_pred = tree.predict(X_test)\n",
        "tree_acc = accuracy_score(y_test, tree_pred)\n",
        "\n",
        "# Bagging Classifier\n",
        "bag = BaggingClassifier(estimator=DecisionTreeClassifier(), n_estimators=50, random_state=42)\n",
        "bag.fit(X_train, y_train)\n",
        "bag_pred = bag.predict(X_test)\n",
        "bag_acc = accuracy_score(y_test, bag_pred)\n",
        "\n",
        "print(f\"Single Tree Accuracy: {tree_acc:.2f}\")\n",
        "print(f\"Bagging Accuracy: {bag_acc:.2f}\")"
      ],
      "metadata": {
        "colab": {
          "base_uri": "https://localhost:8080/"
        },
        "id": "c4UIdCFoVU1Q",
        "outputId": "c14358b1-e802-462f-8bbb-733e74a9df30"
      },
      "execution_count": 18,
      "outputs": [
        {
          "output_type": "stream",
          "name": "stdout",
          "text": [
            "Single Tree Accuracy: 0.00\n",
            "Bagging Accuracy: 0.00\n"
          ]
        }
      ]
    },
    {
      "cell_type": "code",
      "source": [
        "#35. Train a Random Forest Classifier and visualize the confusion matrix.\n",
        "\n",
        "import matplotlib.pyplot as plt\n",
        "import seaborn as sns\n",
        "from sklearn.metrics import confusion_matrix\n",
        "import numpy as np\n",
        "\n",
        "# Train Random Forest\n",
        "rf = RandomForestClassifier(n_estimators=100, random_state=42)\n",
        "rf.fit(X_train, y_train)\n",
        "y_pred = rf.predict(X_test)\n",
        "\n",
        "# Compute confusion matrix\n",
        "labels = np.unique(y_test)\n",
        "cm = confusion_matrix(y_test, y_pred, labels=labels)\n",
        "\n",
        "# Plot using seaborn for more control\n",
        "plt.figure(figsize=(6, 5))\n",
        "sns.heatmap(cm, annot=True, fmt='d', cmap=\"Blues\", xticklabels=labels, yticklabels=labels)\n",
        "plt.title(\"Confusion Matrix - Random Forest\")\n",
        "plt.xlabel(\"Predicted Labels\")\n",
        "plt.ylabel(\"True Labels\")\n",
        "plt.show()"
      ],
      "metadata": {
        "colab": {
          "base_uri": "https://localhost:8080/",
          "height": 513
        },
        "id": "5JQ8lkpoVa9A",
        "outputId": "280d4558-562f-4b5b-b599-246e941a6f26"
      },
      "execution_count": 20,
      "outputs": [
        {
          "output_type": "display_data",
          "data": {
            "text/plain": [
              "<Figure size 600x500 with 2 Axes>"
            ],
            "image/png": "[encoded data removed]"
          },
          "metadata": {}
        }
      ]
    },
    {
      "cell_type": "code",
      "source": [
        "#36. Train a Stacking Classifier using Decision Trees, SVM, and Logistic Regression, and compare accuracy.\n",
        "\n",
        "from sklearn.ensemble import StackingClassifier\n",
        "from sklearn.tree import DecisionTreeClassifier\n",
        "from sklearn.svm import SVC\n",
        "from sklearn.linear_model import LogisticRegression\n",
        "from sklearn.model_selection import train_test_split\n",
        "from sklearn.datasets import load_wine\n",
        "from sklearn.metrics import accuracy_score\n",
        "\n",
        "# Load a suitable dataset (wine has 3 balanced classes)\n",
        "X, y = load_wine(return_X_y=True)\n",
        "X_train, X_test, y_train, y_test = train_test_split(X, y, stratify=y, test_size=0.2, random_state=42)\n",
        "\n",
        "# Define base estimators\n",
        "base_learners = [\n",
        "    ('dt', DecisionTreeClassifier()),\n",
        "    ('svm', SVC(probability=True))\n",
        "]\n",
        "\n",
        "# Meta-learner\n",
        "meta_learner = LogisticRegression()\n",
        "\n",
        "# Define stacking classifier\n",
        "stacking_clf = StackingClassifier(estimators=base_learners, final_estimator=meta_learner, cv=5)\n",
        "stacking_clf.fit(X_train, y_train)\n",
        "\n",
        "# Predict and evaluate\n",
        "y_pred = stacking_clf.predict(X_test)\n",
        "acc = accuracy_score(y_test, y_pred)\n",
        "print(\"Stacking Classifier Accuracy:\", acc)"
      ],
      "metadata": {
        "colab": {
          "base_uri": "https://localhost:8080/"
        },
        "id": "P6ZEYwn1VgzW",
        "outputId": "dc58a25c-3418-4049-9493-7c365d0d38f5"
      },
      "execution_count": 35,
      "outputs": [
        {
          "output_type": "stream",
          "name": "stdout",
          "text": [
            "Stacking Classifier Accuracy: 0.9722222222222222\n"
          ]
        }
      ]
    },
    {
      "cell_type": "code",
      "source": [
        "#37. Train a Random Forest Classifier and print the top 5 most important features.\n",
        "\n",
        "import pandas as pd\n",
        "from sklearn.ensemble import RandomForestClassifier\n",
        "from sklearn.datasets import load_iris\n",
        "from sklearn.model_selection import train_test_split\n",
        "\n",
        "# Load the dataset\n",
        "data = load_iris()\n",
        "X, y = data.data, data.target\n",
        "feature_names = data.feature_names\n",
        "\n",
        "# Train-test split\n",
        "X_train, X_test, y_train, y_test = train_test_split(X, y, test_size=0.3, random_state=42)\n",
        "\n",
        "# Train the model\n",
        "rf = RandomForestClassifier(n_estimators=100, random_state=42)\n",
        "rf.fit(X_train, y_train)\n",
        "\n",
        "# Get feature importances and match with feature names\n",
        "importances = rf.feature_importances_\n",
        "importance_df = pd.DataFrame({\n",
        "    'Feature': feature_names,\n",
        "    'Importance': importances\n",
        "})\n",
        "\n",
        "# Display top 5 important features\n",
        "top5 = importance_df.sort_values(by='Importance', ascending=False).head(5)\n",
        "print(top5)"
      ],
      "metadata": {
        "colab": {
          "base_uri": "https://localhost:8080/"
        },
        "id": "pn_s19veWFQA",
        "outputId": "5915a882-fb97-4008-bc87-06b020eda460"
      },
      "execution_count": 26,
      "outputs": [
        {
          "output_type": "stream",
          "name": "stdout",
          "text": [
            "             Feature  Importance\n",
            "3   petal width (cm)    0.433982\n",
            "2  petal length (cm)    0.417308\n",
            "0  sepal length (cm)    0.104105\n",
            "1   sepal width (cm)    0.044605\n"
          ]
        }
      ]
    },
    {
      "cell_type": "code",
      "source": [
        "#38. Train a Bagging Classifier and evaluate performance using Precision, Recall, and F1-score.\n",
        "\n",
        "from sklearn.ensemble import BaggingClassifier\n",
        "from sklearn.tree import DecisionTreeClassifier\n",
        "from sklearn.metrics import classification_report\n",
        "from sklearn.model_selection import train_test_split\n",
        "from sklearn.datasets import load_iris\n",
        "\n",
        "# Load a suitable classification dataset\n",
        "X, y = load_iris(return_X_y=True)\n",
        "\n",
        "# Train-test split\n",
        "X_train, X_test, y_train, y_test = train_test_split(X, y, stratify=y, test_size=0.2, random_state=42)\n",
        "\n",
        "# Train Bagging Classifier\n",
        "model = BaggingClassifier(estimator=DecisionTreeClassifier(), n_estimators=50, random_state=42)\n",
        "model.fit(X_train, y_train)\n",
        "\n",
        "# Predictions\n",
        "y_pred = model.predict(X_test)\n",
        "\n",
        "# Evaluation\n",
        "print(\"Classification Report:\\n\")\n",
        "print(classification_report(y_test, y_pred, zero_division=0))"
      ],
      "metadata": {
        "colab": {
          "base_uri": "https://localhost:8080/"
        },
        "id": "2TzKeVPWWQxX",
        "outputId": "1174df20-4f8a-4e7d-dfd0-f413ac70b3fd"
      },
      "execution_count": 36,
      "outputs": [
        {
          "output_type": "stream",
          "name": "stdout",
          "text": [
            "Classification Report:\n",
            "\n",
            "              precision    recall  f1-score   support\n",
            "\n",
            "           0       1.00      1.00      1.00        10\n",
            "           1       1.00      0.90      0.95        10\n",
            "           2       0.91      1.00      0.95        10\n",
            "\n",
            "    accuracy                           0.97        30\n",
            "   macro avg       0.97      0.97      0.97        30\n",
            "weighted avg       0.97      0.97      0.97        30\n",
            "\n"
          ]
        }
      ]
    },
    {
      "cell_type": "code",
      "source": [
        "#39. Train a Random Forest Classifier and analyze the effect of max_depth on accuracy.\n",
        "\n",
        "# Try different max_depth values\n",
        "for depth in [2, 4, 6, 8, None]:\n",
        "    model = RandomForestClassifier(n_estimators=100, max_depth=depth, random_state=42)\n",
        "    model.fit(X_train, y_train)\n",
        "    acc = model.score(X_test, y_test)\n",
        "    print(f\"max_depth={depth} → Accuracy: {acc:.2f}\")"
      ],
      "metadata": {
        "colab": {
          "base_uri": "https://localhost:8080/"
        },
        "id": "qESxHK2bWXLh",
        "outputId": "7faf209f-6a84-4881-fd46-7eea1898fdcb"
      },
      "execution_count": 24,
      "outputs": [
        {
          "output_type": "stream",
          "name": "stdout",
          "text": [
            "max_depth=2 → Accuracy: 0.00\n",
            "max_depth=4 → Accuracy: 0.00\n",
            "max_depth=6 → Accuracy: 0.00\n",
            "max_depth=8 → Accuracy: 0.01\n",
            "max_depth=None → Accuracy: 0.00\n"
          ]
        }
      ]
    },
    {
      "cell_type": "code",
      "source": [
        "#40. Train a Bagging Regressor using different base estimators (DecisionTree and KNeighbors) and compare performance.\n",
        "\n",
        "from sklearn.neighbors import KNeighborsRegressor\n",
        "\n",
        "# Using DecisionTree as base\n",
        "bag_tree = BaggingRegressor(estimator=DecisionTreeRegressor(), n_estimators=50, random_state=42)\n",
        "bag_tree.fit(X_train, y_train)\n",
        "tree_mse = mean_squared_error(y_test, bag_tree.predict(X_test))\n",
        "\n",
        "# Using KNeighbors as base\n",
        "bag_knn = BaggingRegressor(estimator=KNeighborsRegressor(), n_estimators=50, random_state=42)\n",
        "bag_knn.fit(X_train, y_train)\n",
        "knn_mse = mean_squared_error(y_test, bag_knn.predict(X_test))\n",
        "\n",
        "print(f\"Bagging Regressor with DecisionTree → MSE: {tree_mse:.2f}\")\n",
        "print(f\"Bagging Regressor with KNeighbors → MSE: {knn_mse:.2f}\")"
      ],
      "metadata": {
        "colab": {
          "base_uri": "https://localhost:8080/"
        },
        "id": "w0UXXejTWd7O",
        "outputId": "4a7c847b-00c1-4e1d-ca16-f0df05338d04"
      },
      "execution_count": 25,
      "outputs": [
        {
          "output_type": "stream",
          "name": "stdout",
          "text": [
            "Bagging Regressor with DecisionTree → MSE: 3984.33\n",
            "Bagging Regressor with KNeighbors → MSE: 3976.29\n"
          ]
        }
      ]
    },
    {
      "cell_type": "code",
      "source": [
        "#41. Train a Random Forest Classifier and evaluate its performance using ROC-AUC Score.\n",
        "\n",
        "from sklearn.ensemble import RandomForestClassifier\n",
        "from sklearn.datasets import load_breast_cancer\n",
        "from sklearn.model_selection import train_test_split\n",
        "from sklearn.metrics import roc_auc_score, roc_curve\n",
        "import matplotlib.pyplot as plt\n",
        "\n",
        "# Load dataset\n",
        "X, y = load_breast_cancer(return_X_y=True)\n",
        "X_train, X_test, y_train, y_test = train_test_split(X, y, test_size=0.2, random_state=42)\n",
        "\n",
        "# Train model\n",
        "model = RandomForestClassifier(random_state=42)\n",
        "model.fit(X_train, y_train)\n",
        "\n",
        "# Predict probabilities\n",
        "y_scores = model.predict_proba(X_test)[:, 1]\n",
        "\n",
        "# Calculate ROC-AUC\n",
        "roc_auc = roc_auc_score(y_test, y_scores)\n",
        "print(\"ROC-AUC Score:\", roc_auc)\n",
        "\n",
        "# Plot ROC Curve\n",
        "fpr, tpr, _ = roc_curve(y_test, y_scores)\n",
        "plt.plot(fpr, tpr, label=f\"AUC = {roc_auc:.2f}\")\n",
        "plt.plot([0, 1], [0, 1], 'k--')\n",
        "plt.xlabel(\"False Positive Rate\")\n",
        "plt.ylabel(\"True Positive Rate\")\n",
        "plt.title(\"ROC Curve\")\n",
        "plt.legend()\n",
        "plt.show()"
      ],
      "metadata": {
        "colab": {
          "base_uri": "https://localhost:8080/",
          "height": 489
        },
        "id": "OfszE88UWj8K",
        "outputId": "96fcb34b-bf8a-454e-efb5-e2c73ee4c3fe"
      },
      "execution_count": 27,
      "outputs": [
        {
          "output_type": "stream",
          "name": "stdout",
          "text": [
            "ROC-AUC Score: 0.9952505732066819\n"
          ]
        },
        {
          "output_type": "display_data",
          "data": {
            "text/plain": [
              "<Figure size 640x480 with 1 Axes>"
            ],
            "image/png": "[encoded data removed]"
          },
          "metadata": {}
        }
      ]
    },
    {
      "cell_type": "code",
      "source": [
        "#42. Train a Bagging Classifier and evaluate its performance using cross-validation.\n",
        "\n",
        "from sklearn.ensemble import BaggingClassifier\n",
        "from sklearn.tree import DecisionTreeClassifier\n",
        "from sklearn.datasets import load_iris\n",
        "from sklearn.model_selection import cross_val_score\n",
        "\n",
        "# Load dataset\n",
        "X, y = load_iris(return_X_y=True)\n",
        "\n",
        "# Use 'estimator' instead of 'base_estimator'\n",
        "model = BaggingClassifier(estimator=DecisionTreeClassifier(), n_estimators=50, random_state=42)\n",
        "\n",
        "# Evaluate using cross-validation\n",
        "scores = cross_val_score(model, X, y, cv=5)\n",
        "\n",
        "# Display results\n",
        "print(\"Cross-Validation Accuracy Scores:\", scores)\n",
        "print(\"Mean Accuracy:\", scores.mean())"
      ],
      "metadata": {
        "colab": {
          "base_uri": "https://localhost:8080/"
        },
        "id": "xUPoRqU3ZV0o",
        "outputId": "c36304f7-f678-400c-9239-8b7064b1895c"
      },
      "execution_count": 33,
      "outputs": [
        {
          "output_type": "stream",
          "name": "stdout",
          "text": [
            "Cross-Validation Accuracy Scores: [0.96666667 0.96666667 0.93333333 0.96666667 1.        ]\n",
            "Mean Accuracy: 0.9666666666666668\n"
          ]
        }
      ]
    },
    {
      "cell_type": "code",
      "source": [
        "#43. Train a Random Forest Classifier and plot the Precision-Recall curve.\n",
        "\n",
        "from sklearn.ensemble import RandomForestClassifier\n",
        "from sklearn.datasets import load_breast_cancer\n",
        "from sklearn.model_selection import train_test_split\n",
        "from sklearn.metrics import precision_recall_curve, average_precision_score\n",
        "import matplotlib.pyplot as plt\n",
        "\n",
        "# Load data\n",
        "X, y = load_breast_cancer(return_X_y=True)\n",
        "X_train, X_test, y_train, y_test = train_test_split(X, y, test_size=0.2, random_state=42)\n",
        "\n",
        "# Train model\n",
        "clf = RandomForestClassifier(random_state=42)\n",
        "clf.fit(X_train, y_train)\n",
        "\n",
        "# Predict probabilities\n",
        "y_scores = clf.predict_proba(X_test)[:, 1]\n",
        "\n",
        "# Calculate precision and recall\n",
        "precision, recall, _ = precision_recall_curve(y_test, y_scores)\n",
        "ap_score = average_precision_score(y_test, y_scores)\n",
        "\n",
        "# Plot\n",
        "plt.plot(recall, precision, label=f'AP = {ap_score:.2f}')\n",
        "plt.xlabel(\"Recall\")\n",
        "plt.ylabel(\"Precision\")\n",
        "plt.title(\"Precision-Recall Curve\")\n",
        "plt.legend()\n",
        "plt.grid(True)\n",
        "plt.show()"
      ],
      "metadata": {
        "colab": {
          "base_uri": "https://localhost:8080/",
          "height": 472
        },
        "id": "Fo5E0ekSZpxz",
        "outputId": "9a16495e-4b2f-4b75-bd61-556d249f8f42"
      },
      "execution_count": 29,
      "outputs": [
        {
          "output_type": "display_data",
          "data": {
            "text/plain": [
              "<Figure size 640x480 with 1 Axes>"
            ],
            "image/png": "[encoded data removed]"
          },
          "metadata": {}
        }
      ]
    },
    {
      "cell_type": "code",
      "source": [
        "#44. Train a Stacking Classifier with Random Forest and Logistic Regression and compare accuracy.\n",
        "\n",
        "from sklearn.ensemble import StackingClassifier\n",
        "from sklearn.ensemble import RandomForestClassifier\n",
        "from sklearn.linear_model import LogisticRegression\n",
        "from sklearn.datasets import load_wine\n",
        "from sklearn.model_selection import train_test_split\n",
        "from sklearn.metrics import accuracy_score\n",
        "\n",
        "# Load data\n",
        "X, y = load_wine(return_X_y=True)\n",
        "X_train, X_test, y_train, y_test = train_test_split(X, y, random_state=42)\n",
        "\n",
        "# Base and meta learners\n",
        "base_learners = [('rf', RandomForestClassifier(random_state=42))]\n",
        "meta_learner = LogisticRegression()\n",
        "\n",
        "# Stacking model\n",
        "stack_model = StackingClassifier(estimators=base_learners, final_estimator=meta_learner)\n",
        "stack_model.fit(X_train, y_train)\n",
        "\n",
        "# Prediction\n",
        "y_pred = stack_model.predict(X_test)\n",
        "acc = accuracy_score(y_test, y_pred)\n",
        "print(\"Stacking Classifier Accuracy:\", acc)"
      ],
      "metadata": {
        "colab": {
          "base_uri": "https://localhost:8080/"
        },
        "id": "JGuriYEGZ1RY",
        "outputId": "d49ba79d-80e9-4ac0-996a-c0d310249b36"
      },
      "execution_count": 30,
      "outputs": [
        {
          "output_type": "stream",
          "name": "stdout",
          "text": [
            "Stacking Classifier Accuracy: 1.0\n"
          ]
        }
      ]
    },
    {
      "cell_type": "code",
      "source": [
        "#45. Train a Bagging Regressor with different levels of bootstrap samples and compare performance.\n",
        "\n",
        "from sklearn.ensemble import BaggingRegressor\n",
        "from sklearn.tree import DecisionTreeRegressor\n",
        "from sklearn.datasets import make_regression\n",
        "from sklearn.model_selection import train_test_split\n",
        "from sklearn.metrics import mean_squared_error\n",
        "import matplotlib.pyplot as plt\n",
        "\n",
        "# Generate regression dataset\n",
        "X, y = make_regression(n_samples=1000, n_features=20, noise=0.3, random_state=1)\n",
        "X_train, X_test, y_train, y_test = train_test_split(X, y, random_state=42)\n",
        "\n",
        "# Sample sizes to test\n",
        "sample_sizes = [0.3, 0.5, 0.7, 1.0]\n",
        "mse_values = []\n",
        "\n",
        "for s in sample_sizes:\n",
        "    model = BaggingRegressor(estimator=DecisionTreeRegressor(), max_samples=s, n_estimators=50, random_state=42)\n",
        "    model.fit(X_train, y_train)\n",
        "    preds = model.predict(X_test)\n",
        "    mse = mean_squared_error(y_test, preds)\n",
        "    mse_values.append(mse)\n",
        "    print(f\"Max Samples: {s}, MSE: {mse:.2f}\")\n",
        "\n",
        "# Plot results\n",
        "plt.plot(sample_sizes, mse_values, marker='o', color='blue')\n",
        "plt.xlabel(\"Bootstrap Sample Size (max_samples)\")\n",
        "plt.ylabel(\"Mean Squared Error\")\n",
        "plt.title(\"MSE vs Bootstrap Sample Size in Bagging Regressor\")\n",
        "plt.grid(True)\n",
        "plt.show()"
      ],
      "metadata": {
        "colab": {
          "base_uri": "https://localhost:8080/",
          "height": 541
        },
        "id": "bDWqOXtTZ9uk",
        "outputId": "011824bf-892f-4921-ea90-440a65329686"
      },
      "execution_count": 32,
      "outputs": [
        {
          "output_type": "stream",
          "name": "stdout",
          "text": [
            "Max Samples: 0.3, MSE: 8414.01\n",
            "Max Samples: 0.5, MSE: 7768.05\n",
            "Max Samples: 0.7, MSE: 7107.83\n",
            "Max Samples: 1.0, MSE: 6689.87\n"
          ]
        },
        {
          "output_type": "display_data",
          "data": {
            "text/plain": [
              "<Figure size 640x480 with 1 Axes>"
            ],
            "image/png": "[encoded data removed]"
          },
          "metadata": {}
        }
      ]
    }
  ]
}